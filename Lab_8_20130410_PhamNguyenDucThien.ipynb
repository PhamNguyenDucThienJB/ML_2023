{
  "nbformat": 4,
  "nbformat_minor": 0,
  "metadata": {
    "colab": {
      "provenance": [],
      "include_colab_link": true
    },
    "kernelspec": {
      "name": "python3",
      "display_name": "Python 3"
    },
    "language_info": {
      "name": "python"
    }
  },
  "cells": [
    {
      "cell_type": "markdown",
      "metadata": {
        "id": "view-in-github",
        "colab_type": "text"
      },
      "source": [
        "<a href=\"https://colab.research.google.com/github/PhamNguyenDucThienJB/ML_2023/blob/main/Lab_8_20130410_PhamNguyenDucThien.ipynb\" target=\"_parent\"><img src=\"https://colab.research.google.com/assets/colab-badge.svg\" alt=\"Open In Colab\"/></a>"
      ]
    },
    {
      "cell_type": "markdown",
      "source": [
        "# This lab deals with **GridSearchCV** for tuning the hyper-parameters of an estimator and applying vectorization techniques to the **movie reviews dataset** for classification task. \n",
        "\n",
        "*   **Deadline: 23:59, 17/4/2023**\n",
        "\n"
      ],
      "metadata": {
        "id": "LMzehe0sy5wr"
      }
    },
    {
      "cell_type": "markdown",
      "source": [
        "# Import libraries"
      ],
      "metadata": {
        "id": "H4nJmxp9zGX4"
      }
    },
    {
      "cell_type": "code",
      "execution_count": null,
      "metadata": {
        "id": "DoVWQ8AEyc-C"
      },
      "outputs": [],
      "source": [
        "# code\n",
        "from sklearn.feature_selection import SelectKBest, chi2\n",
        "from sklearn.ensemble import RandomForestClassifier\n",
        "from sklearn.model_selection import cross_val_score, GridSearchCV\n",
        "from sklearn import datasets\n",
        "from sklearn import svm\n",
        "from prettytable import PrettyTable\n",
        "from sklearn.model_selection import train_test_split\n",
        "from sklearn import metrics\n",
        "from sklearn.metrics import accuracy_score,precision_score,recall_score,f1_score, confusion_matrix,classification_report\n",
        "from sklearn.tree import DecisionTreeClassifier\n",
        "from sklearn.neighbors import KNeighborsClassifier\n",
        "from sklearn.metrics import accuracy_score, precision_score, recall_score, f1_score\n",
        "from sklearn.svm import SVC\n",
        "from sklearn.datasets import load_iris\n",
        "from sklearn.ensemble import RandomForestClassifier\n",
        "from sklearn.naive_bayes import GaussianNB\n",
        "from sklearn.model_selection import cross_validate\n",
        "from sklearn.model_selection import KFold\n",
        "from sklearn.model_selection import cross_val_score\n",
        "import numpy as np\n",
        "import pandas as pd\n",
        "from sklearn.model_selection import GridSearchCV"
      ]
    },
    {
      "cell_type": "markdown",
      "source": [
        "#Task 1. With **iris** dataset\n",
        "*  1.1. Apply **GridSearchCV** for **SVM** to find the best hyperparameters using the following param_grid.\n",
        "\n",
        "```\n",
        "param_grid = {'C': [0.1, 1, 10, 100, 1000],\n",
        "              'gamma': [1, 0.1, 0.01, 0.001, 0.0001],\n",
        "              'kernel': ['rbf','linear']}\n",
        "```\n",
        "\n",
        "\n"
      ],
      "metadata": {
        "id": "x_dG9SA5OhGT"
      }
    },
    {
      "cell_type": "code",
      "source": [
        "#code\n",
        "iris =datasets.load_iris()\n",
        "x= iris['data']\n",
        "y= iris['target']\n",
        "X_train, X_test, y_train, y_test = train_test_split(x, y, test_size=0.2,random_state=43)\n",
        "clf=svm.SVC(kernel='sigmoid', random_state=0)\n",
        "param_grid = {'C': [0.1, 1, 10, 100, 1000],\n",
        "              'gamma': [1, 0.1, 0.01, 0.001, 0.0001],\n",
        "              'kernel': ['rbf','linear']}"
      ],
      "metadata": {
        "id": "62jExOZ952fF"
      },
      "execution_count": null,
      "outputs": []
    },
    {
      "cell_type": "code",
      "source": [
        "grid_rf_class = GridSearchCV(\n",
        "    estimator= clf,\n",
        "    param_grid = param_grid,\n",
        "    scoring= 'accuracy',\n",
        "    n_jobs= 4,\n",
        "    cv= 10,\n",
        "    refit = True,\n",
        "    return_train_score=True\n",
        ")"
      ],
      "metadata": {
        "id": "h9-WPPgy69Na"
      },
      "execution_count": null,
      "outputs": []
    },
    {
      "cell_type": "code",
      "source": [
        "grid_rf_class.fit(X_train, y_train)\n",
        "\n",
        "grid_rf_class.predict(X_test)"
      ],
      "metadata": {
        "colab": {
          "base_uri": "https://localhost:8080/"
        },
        "id": "akqwL_TE8KK5",
        "outputId": "a27cb84e-c17a-4f13-ffc5-d16754585015"
      },
      "execution_count": null,
      "outputs": [
        {
          "output_type": "execute_result",
          "data": {
            "text/plain": [
              "array([0, 0, 2, 1, 2, 0, 2, 1, 1, 1, 0, 1, 2, 0, 1, 1, 0, 0, 2, 2, 0, 0,\n",
              "       0, 2, 2, 2, 0, 1, 0, 0])"
            ]
          },
          "metadata": {},
          "execution_count": 4
        }
      ]
    },
    {
      "cell_type": "code",
      "source": [
        "cv_result=pd.DataFrame(grid_rf_class.cv_results_)\n",
        "# cv_result"
      ],
      "metadata": {
        "id": "9FLMFv4z_qNg"
      },
      "execution_count": null,
      "outputs": []
    },
    {
      "cell_type": "code",
      "source": [
        "print(grid_rf_class.best_score_)\n",
        "print(grid_rf_class.best_params_)\n",
        "print(grid_rf_class.best_estimator_)"
      ],
      "metadata": {
        "colab": {
          "base_uri": "https://localhost:8080/"
        },
        "id": "H_jIRDss9Dl5",
        "outputId": "29f10f4f-a302-4163-ecb2-dc32fda64ae4"
      },
      "execution_count": null,
      "outputs": [
        {
          "output_type": "stream",
          "name": "stdout",
          "text": [
            "0.9666666666666666\n",
            "{'C': 1, 'gamma': 1, 'kernel': 'linear'}\n",
            "SVC(C=1, gamma=1, kernel='linear', random_state=0)\n"
          ]
        }
      ]
    },
    {
      "cell_type": "markdown",
      "source": [
        "*  1.2. Apply **GridSearchCV** for **kNN** to find the best hyperparameters using the following param_grid.\n",
        "\n",
        "```\n",
        "grid_params = { 'n_neighbors' : [5,7,9,11,13,15],\n",
        "               'weights' : ['uniform','distance'],\n",
        "               'metric' : ['minkowski','euclidean','manhattan']}\n",
        "```\n",
        "where\n",
        "\n",
        "    *  **n_neighbors**: Decide the best k based on the values we have computed earlier.\n",
        "    *  **weights**: Check whether adding weights to the data points is beneficial to the model or not. 'uniform' assigns no weight, while 'distance' weighs points by the inverse of their distances meaning nearer points will have more weight than the farther points.\n",
        "    *  **metric**: The distance metric to be used will calculating the similarity.\n"
      ],
      "metadata": {
        "id": "2g--8cng53sY"
      }
    },
    {
      "cell_type": "code",
      "source": [
        "#code\n",
        "iris =datasets.load_iris()\n",
        "x= iris['data']\n",
        "y= iris['target']\n",
        "X_train, X_test, y_train, y_test = train_test_split(x, y, test_size=0.2,random_state=43)\n",
        "neightbors_list = [5,10,15,20]\n",
        "for test_number in neightbors_list:\n",
        "    model = KNeighborsClassifier(n_neighbors=test_number)\n",
        "    predictions =model.fit(X_train, y_train).predict(X_test)\n",
        "    accuracy = accuracy_score(y_test,predictions)\n",
        "    "
      ],
      "metadata": {
        "id": "fX0_kItYPism"
      },
      "execution_count": null,
      "outputs": []
    },
    {
      "cell_type": "code",
      "source": [
        "#code\n",
        "iris =datasets.load_iris()\n",
        "x= iris['data']\n",
        "y= iris['target']\n",
        "X_train, X_test, y_train, y_test = train_test_split(x, y, test_size=0.2,random_state=43)\n",
        "knn = KNeighborsClassifier(n_neighbors=5)"
      ],
      "metadata": {
        "id": "qcyDnVgjCkep"
      },
      "execution_count": null,
      "outputs": []
    },
    {
      "cell_type": "code",
      "source": [
        "grid_params = { 'n_neighbors' : [5,7,9,11,13,15],\n",
        "               'weights' : ['uniform','distance'],\n",
        "               'metric' : ['minkowski','euclidean','manhattan']}"
      ],
      "metadata": {
        "id": "cqNRSgWRC454"
      },
      "execution_count": null,
      "outputs": []
    },
    {
      "cell_type": "code",
      "source": [
        "grid_rf_class1 = GridSearchCV(\n",
        "    estimator= knn,\n",
        "    param_grid = grid_params,\n",
        "    scoring= 'accuracy',\n",
        "    n_jobs= 4,\n",
        "    cv= 10,\n",
        "    refit = True,\n",
        "    return_train_score=True\n",
        ")"
      ],
      "metadata": {
        "id": "JzuXiqgBC6Og"
      },
      "execution_count": null,
      "outputs": []
    },
    {
      "cell_type": "code",
      "source": [
        "grid_rf_class1.fit(X_train, y_train)\n",
        "\n",
        "grid_rf_class1.predict(X_test)"
      ],
      "metadata": {
        "colab": {
          "base_uri": "https://localhost:8080/"
        },
        "id": "9Ro4Pze9DHoZ",
        "outputId": "efc06d6a-478c-4b3a-bf1b-e960a489c11c"
      },
      "execution_count": null,
      "outputs": [
        {
          "output_type": "execute_result",
          "data": {
            "text/plain": [
              "array([0, 0, 1, 1, 2, 0, 2, 1, 1, 1, 0, 1, 2, 0, 1, 1, 0, 0, 2, 2, 0, 0,\n",
              "       0, 2, 2, 2, 0, 1, 0, 0])"
            ]
          },
          "metadata": {},
          "execution_count": 11
        }
      ]
    },
    {
      "cell_type": "code",
      "source": [
        "print(grid_rf_class1.best_score_)\n",
        "print(grid_rf_class1.best_params_)\n",
        "print(grid_rf_class1.best_estimator_)"
      ],
      "metadata": {
        "colab": {
          "base_uri": "https://localhost:8080/"
        },
        "id": "_Rt8omrHDV5g",
        "outputId": "558c6563-001d-4b17-ead6-c8ebfeef9e1e"
      },
      "execution_count": null,
      "outputs": [
        {
          "output_type": "stream",
          "name": "stdout",
          "text": [
            "0.9666666666666668\n",
            "{'metric': 'manhattan', 'n_neighbors': 15, 'weights': 'uniform'}\n",
            "KNeighborsClassifier(metric='manhattan', n_neighbors=15)\n"
          ]
        }
      ]
    },
    {
      "cell_type": "markdown",
      "source": [
        "*  1.3. Apply **GridSearchCV** for **Random Forest** to find the best hyperparameters using the following param_grid.\n",
        "\n",
        "```\n",
        "param_grid = {\n",
        "    'n_estimators': [25, 50, 100, 150],\n",
        "    'max_features': ['sqrt', 'log2', None],\n",
        "    'max_depth': [3, 6, 9],\n",
        "    'max_leaf_nodes': [3, 6, 9],\n",
        "}\n",
        "```"
      ],
      "metadata": {
        "id": "3lQSOcjL_TIW"
      }
    },
    {
      "cell_type": "code",
      "source": [
        "#code\n",
        "iris =datasets.load_iris()\n",
        "x= iris['data']\n",
        "y= iris['target']\n",
        "X_train, X_test, y_train, y_test = train_test_split(x, y, test_size=0.2,random_state=43)\n",
        "rf_selected=RandomForestClassifier(random_state=42)"
      ],
      "metadata": {
        "id": "OlyF9WpN_01p"
      },
      "execution_count": null,
      "outputs": []
    },
    {
      "cell_type": "code",
      "source": [
        "param_grid2 = {\n",
        "    'n_estimators': [25, 50, 100, 150],\n",
        "    'max_features': ['sqrt', 'log2', None],\n",
        "    'max_depth': [3, 6, 9],\n",
        "    'max_leaf_nodes': [3, 6, 9],\n",
        "}"
      ],
      "metadata": {
        "id": "gesczaHoECCR"
      },
      "execution_count": null,
      "outputs": []
    },
    {
      "cell_type": "code",
      "source": [
        "grid_rf_class2 = GridSearchCV(\n",
        "    estimator= rf_selected,\n",
        "    param_grid = param_grid2,\n",
        "    scoring= 'accuracy',\n",
        "    n_jobs= 4,\n",
        "    cv= 10,\n",
        "    refit = True,\n",
        "    return_train_score=True\n",
        ")"
      ],
      "metadata": {
        "id": "s4t3nkGcEFiJ"
      },
      "execution_count": null,
      "outputs": []
    },
    {
      "cell_type": "code",
      "source": [
        "grid_rf_class2.fit(X_train, y_train)\n",
        "\n",
        "grid_rf_class2.predict(X_test)"
      ],
      "metadata": {
        "id": "yiNokKVxETew",
        "colab": {
          "base_uri": "https://localhost:8080/"
        },
        "outputId": "3e1e790c-a7eb-4287-8b33-1c45dfb1a34c"
      },
      "execution_count": null,
      "outputs": [
        {
          "output_type": "execute_result",
          "data": {
            "text/plain": [
              "array([0, 0, 1, 1, 2, 0, 2, 1, 1, 1, 0, 1, 2, 0, 1, 1, 0, 0, 2, 2, 0, 0,\n",
              "       0, 2, 1, 2, 0, 1, 0, 0])"
            ]
          },
          "metadata": {},
          "execution_count": 20
        }
      ]
    },
    {
      "cell_type": "code",
      "source": [
        "print(grid_rf_class2.best_score_)\n",
        "print(grid_rf_class2.best_params_)\n",
        "print(grid_rf_class2.best_estimator_)"
      ],
      "metadata": {
        "id": "Vy4ODNsjE3LA",
        "outputId": "2c60b162-ac14-49e7-cf1e-0656289ce3d3",
        "colab": {
          "base_uri": "https://localhost:8080/"
        }
      },
      "execution_count": null,
      "outputs": [
        {
          "output_type": "stream",
          "name": "stdout",
          "text": [
            "0.95\n",
            "{'max_depth': 3, 'max_features': 'sqrt', 'max_leaf_nodes': 6, 'n_estimators': 150}\n",
            "RandomForestClassifier(max_depth=3, max_leaf_nodes=6, n_estimators=150,\n",
            "                       random_state=42)\n"
          ]
        }
      ]
    },
    {
      "cell_type": "markdown",
      "source": [
        "*   1.4 Compare the best obtained results from 1.1 to 1.3 (use PrettyTable to dispaly the results)"
      ],
      "metadata": {
        "id": "G3N7TD7s_3Kp"
      }
    },
    {
      "cell_type": "code",
      "source": [
        "t= PrettyTable (['Algorithm','best_score_ ','best_params_','best_estimator_'])\n",
        "t.add_row(['SVM',grid_rf_class.best_score_,grid_rf_class.best_params_,grid_rf_class.best_estimator_])\n",
        "t.add_row(['kNN',grid_rf_class1.best_score_,grid_rf_class1.best_params_,grid_rf_class1.best_estimator_])\n",
        "t.add_row(['Romdom Forest',grid_rf_class2.best_score_,grid_rf_class2.best_params_,grid_rf_class2.best_estimator_])\n",
        "print(t)\n"
      ],
      "metadata": {
        "colab": {
          "base_uri": "https://localhost:8080/"
        },
        "id": "okun-ry8xjIN",
        "outputId": "fce136fe-98d3-40b1-a548-b0542d8c7a82"
      },
      "execution_count": null,
      "outputs": [
        {
          "output_type": "stream",
          "name": "stdout",
          "text": [
            "+---------------+--------------------+------------------------------------------------------------------------------------+-------------------------------------------------------------------------+\n",
            "|   Algorithm   |    best_score_     |                                    best_params_                                    |                             best_estimator_                             |\n",
            "+---------------+--------------------+------------------------------------------------------------------------------------+-------------------------------------------------------------------------+\n",
            "|      SVM      | 0.9666666666666666 |                      {'C': 1, 'gamma': 1, 'kernel': 'linear'}                      |            SVC(C=1, gamma=1, kernel='linear', random_state=0)           |\n",
            "|      kNN      | 0.9666666666666668 |          {'metric': 'manhattan', 'n_neighbors': 15, 'weights': 'uniform'}          |         KNeighborsClassifier(metric='manhattan', n_neighbors=15)        |\n",
            "| Romdom Forest |        0.95        | {'max_depth': 3, 'max_features': 'sqrt', 'max_leaf_nodes': 6, 'n_estimators': 150} | RandomForestClassifier(max_depth=3, max_leaf_nodes=6, n_estimators=150, |\n",
            "|               |                    |                                                                                    |                                        random_state=42)                 |\n",
            "+---------------+--------------------+------------------------------------------------------------------------------------+-------------------------------------------------------------------------+\n"
          ]
        }
      ]
    },
    {
      "cell_type": "markdown",
      "source": [
        "#Task 2. \n",
        "For breast cancer dataset (https://tinyurl.com/3vme8hr3) which could be loaded from datasets in sklearn as follows:\n",
        "\n",
        "```\n",
        "#Import scikit-learn dataset library\n",
        "from sklearn import datasets\n",
        "\n",
        "#Load dataset\n",
        "cancer = datasets.load_breast_cancer()\n",
        "```\n",
        "\n",
        "*   Apply **GridSearchCV** to different classification algorithms such as **SVM, kNN, LogisticRegression, RandomForest**.\n",
        "*   Compare the results obtained by the best hyperparameters among classification algorithms."
      ],
      "metadata": {
        "id": "kNv07ARGzOUm"
      }
    },
    {
      "cell_type": "markdown",
      "source": [
        "*   2.1. Apply **GridSearchCV** to **SVM** \n"
      ],
      "metadata": {
        "id": "pnoVB8J4vV36"
      }
    },
    {
      "cell_type": "code",
      "source": [
        "# code\n",
        "from sklearn import datasets\n",
        "\n",
        "# Load dataset\n",
        "cancer = datasets.load_breast_cancer()"
      ],
      "metadata": {
        "id": "-ZTSvsJdvYqI"
      },
      "execution_count": null,
      "outputs": []
    },
    {
      "cell_type": "code",
      "source": [
        "x= cancer['data']\n",
        "y= cancer['target']\n",
        "X_train, X_test, y_train, y_test = train_test_split(x, y, test_size=0.2,random_state=43)\n",
        "# clf=svm.SVC(kernel='sigmoid', random_state=0)\n",
        "clf=svm.SVC(kernel='sigmoid',random_state=0)"
      ],
      "metadata": {
        "id": "miNmjaPKzhZR"
      },
      "execution_count": null,
      "outputs": []
    },
    {
      "cell_type": "code",
      "source": [
        "param_grid = {'C': [0.1, 1, 10, 100, 1000],\n",
        "              'gamma': [1, 0.1, 0.01, 0.001, 0.0001],\n",
        "              'kernel': ['rbf','linear']}"
      ],
      "metadata": {
        "id": "KJ6-uzm31HaQ"
      },
      "execution_count": null,
      "outputs": []
    },
    {
      "cell_type": "code",
      "source": [
        "grid_rf_class_SVM = GridSearchCV(\n",
        "    estimator= clf,\n",
        "    param_grid = param_grid,\n",
        "    scoring= 'accuracy',\n",
        "    n_jobs= 4,\n",
        "    cv= 10,\n",
        "    refit = True,\n",
        "    return_train_score=True\n",
        ")"
      ],
      "metadata": {
        "id": "eKZqpfFg1Idv"
      },
      "execution_count": null,
      "outputs": []
    },
    {
      "cell_type": "code",
      "source": [
        "# grid_rf_class_SVM.fit(X_train, y_train)\n",
        "\n",
        "# pred_SMV= grid_rf_class_SVM.predict(X_test)"
      ],
      "metadata": {
        "id": "rhAWqJdo1c7l"
      },
      "execution_count": null,
      "outputs": []
    },
    {
      "cell_type": "code",
      "source": [
        "accuracy_SVC=accuracy_score(y_test,pred_SMV)\n",
        "precision_SVC=precision_score(y_test,pred_SMV,average='micro')\n",
        "recall_SVC=recall_score(y_test,pred_SMV,average='micro')\n",
        "f1_SVC=f1_score(y_test,pred_SMV,average='micro')"
      ],
      "metadata": {
        "id": "YCxGXApS14g7"
      },
      "execution_count": null,
      "outputs": []
    },
    {
      "cell_type": "code",
      "source": [
        "# print(grid_rf_class_SVM.best_score_)\n",
        "# print(grid_rf_class_SVM.best_params_)\n",
        "# print(grid_rf_class_SVM.best_estimator_)"
      ],
      "metadata": {
        "colab": {
          "base_uri": "https://localhost:8080/",
          "height": 207
        },
        "id": "yrVEdpkv1VJV",
        "outputId": "6c7655ca-86f1-4818-b790-421fe653714d"
      },
      "execution_count": null,
      "outputs": [
        {
          "output_type": "error",
          "ename": "AttributeError",
          "evalue": "ignored",
          "traceback": [
            "\u001b[0;31m---------------------------------------------------------------------------\u001b[0m",
            "\u001b[0;31mAttributeError\u001b[0m                            Traceback (most recent call last)",
            "\u001b[0;32m<ipython-input-30-ecf7f14c1378>\u001b[0m in \u001b[0;36m<cell line: 1>\u001b[0;34m()\u001b[0m\n\u001b[0;32m----> 1\u001b[0;31m \u001b[0mprint\u001b[0m\u001b[0;34m(\u001b[0m\u001b[0mgrid_rf_class_SVM\u001b[0m\u001b[0;34m.\u001b[0m\u001b[0mbest_score_\u001b[0m\u001b[0;34m)\u001b[0m\u001b[0;34m\u001b[0m\u001b[0;34m\u001b[0m\u001b[0m\n\u001b[0m\u001b[1;32m      2\u001b[0m \u001b[0mprint\u001b[0m\u001b[0;34m(\u001b[0m\u001b[0mgrid_rf_class_SVM\u001b[0m\u001b[0;34m.\u001b[0m\u001b[0mbest_params_\u001b[0m\u001b[0;34m)\u001b[0m\u001b[0;34m\u001b[0m\u001b[0;34m\u001b[0m\u001b[0m\n\u001b[1;32m      3\u001b[0m \u001b[0mprint\u001b[0m\u001b[0;34m(\u001b[0m\u001b[0mgrid_rf_class_SVM\u001b[0m\u001b[0;34m.\u001b[0m\u001b[0mbest_estimator_\u001b[0m\u001b[0;34m)\u001b[0m\u001b[0;34m\u001b[0m\u001b[0;34m\u001b[0m\u001b[0m\n",
            "\u001b[0;31mAttributeError\u001b[0m: 'GridSearchCV' object has no attribute 'best_score_'"
          ]
        }
      ]
    },
    {
      "cell_type": "markdown",
      "source": [
        "*   2.2. Apply **GridSearchCV** to **kNN** "
      ],
      "metadata": {
        "id": "ol1U_T_NvcqV"
      }
    },
    {
      "cell_type": "code",
      "source": [
        "#code\n",
        "knn = KNeighborsClassifier(n_neighbors=5)\n",
        "grid_params = { 'n_neighbors' : [5,7,9,11,13,15],\n",
        "               'weights' : ['uniform','distance'],\n",
        "               'metric' : ['minkowski','euclidean','manhattan']}"
      ],
      "metadata": {
        "id": "IVYjr_hY3I3L"
      },
      "execution_count": null,
      "outputs": []
    },
    {
      "cell_type": "code",
      "source": [
        "grid_rf_class_kMM = GridSearchCV(\n",
        "    estimator= knn,\n",
        "    param_grid = grid_params,\n",
        "    scoring= 'accuracy',\n",
        "    n_jobs= 4,\n",
        "    cv= 10,\n",
        "    refit = True,\n",
        "    return_train_score=True\n",
        ")"
      ],
      "metadata": {
        "id": "16a7mTx34y-Y"
      },
      "execution_count": null,
      "outputs": []
    },
    {
      "cell_type": "code",
      "source": [
        "grid_rf_class_kMM.fit(X_train, y_train)\n",
        "\n",
        "pred_kmm= grid_rf_class_kMM.predict(X_test)"
      ],
      "metadata": {
        "id": "9OHQofao21RX"
      },
      "execution_count": null,
      "outputs": []
    },
    {
      "cell_type": "code",
      "source": [
        "accuracy_kNN=accuracy_score(y_test,pred_kmm)\n",
        "precision_kNN=precision_score(y_test,pred_kmm,average='micro')\n",
        "recall_kNN=recall_score(y_test,pred_kmm,average='micro')\n",
        "f1_kNN=f1_score(y_test,pred_kmm,average='micro')"
      ],
      "metadata": {
        "id": "89vnUlmx24-z"
      },
      "execution_count": null,
      "outputs": []
    },
    {
      "cell_type": "markdown",
      "source": [
        "*   2.3. Apply **GridSearchCV** to **LogisticRegression** "
      ],
      "metadata": {
        "id": "pPkAvse-BxNa"
      }
    },
    {
      "cell_type": "code",
      "source": [
        "from sklearn.linear_model import LogisticRegression"
      ],
      "metadata": {
        "id": "7mx_9I5d6ERl"
      },
      "execution_count": null,
      "outputs": []
    },
    {
      "cell_type": "code",
      "source": [
        "lR= LogisticRegression(max_iter=1000)"
      ],
      "metadata": {
        "id": "HMDwiJBR59FS"
      },
      "execution_count": null,
      "outputs": []
    },
    {
      "cell_type": "code",
      "source": [
        "param_grid = {'C': [0.1, 1, 10, 100], 'penalty': ['l1', 'l2'], 'solver': ['liblinear', 'saga']}"
      ],
      "metadata": {
        "id": "gMepFTzZ3aND"
      },
      "execution_count": null,
      "outputs": []
    },
    {
      "cell_type": "code",
      "source": [
        "#code\n",
        "grid_rf_class_LR = GridSearchCV(\n",
        "    estimator= lR,\n",
        "    param_grid = param_grid,\n",
        "    scoring= 'accuracy',\n",
        "    n_jobs= 4,\n",
        "    cv= 10,\n",
        "    refit = True,\n",
        "    return_train_score=True\n",
        ")"
      ],
      "metadata": {
        "id": "nyYjpHFbB1Ci"
      },
      "execution_count": null,
      "outputs": []
    },
    {
      "cell_type": "code",
      "source": [
        "grid_rf_class_LR.fit(X_train, y_train)\n",
        "\n",
        "pred_lR= grid_rf_class_LR.predict(X_test)\n",
        "\n",
        "accuracy_lr=accuracy_score(y_test,pred_lR)\n",
        "precision_lr=precision_score(y_test,pred_lR,average='micro')\n",
        "recall_lr=recall_score(y_test,pred_lR,average='micro')\n",
        "f1_lr=f1_score(y_test,pred_lR,average='micro')"
      ],
      "metadata": {
        "id": "RDVbR6Hp6Nz5"
      },
      "execution_count": null,
      "outputs": []
    },
    {
      "cell_type": "markdown",
      "source": [
        "*   2.4. Apply **GridSearchCV** to **RandomForest** "
      ],
      "metadata": {
        "id": "3NjSLo5jB1xY"
      }
    },
    {
      "cell_type": "code",
      "source": [
        "rf_selected=RandomForestClassifier(random_state=42)"
      ],
      "metadata": {
        "id": "rQIrWoCo7L_4"
      },
      "execution_count": null,
      "outputs": []
    },
    {
      "cell_type": "code",
      "source": [
        "param_grid = {\n",
        "    'n_estimators': [25, 50, 100, 150],\n",
        "    'max_features': ['sqrt', 'log2', None],\n",
        "    'max_depth': [3, 6, 9],\n",
        "    'max_leaf_nodes': [3, 6, 9],\n",
        "}"
      ],
      "metadata": {
        "id": "L9VPFrUS4b7O"
      },
      "execution_count": null,
      "outputs": []
    },
    {
      "cell_type": "code",
      "source": [
        "grid_rf_class2 = GridSearchCV(\n",
        "    estimator= rf_selected,\n",
        "    param_grid = param_grid,\n",
        "    scoring= 'accuracy',\n",
        "    n_jobs= 4,\n",
        "    cv= 10,\n",
        "    refit = True,\n",
        "    return_train_score=True\n",
        ")"
      ],
      "metadata": {
        "id": "wZw7LGyl7lig"
      },
      "execution_count": null,
      "outputs": []
    },
    {
      "cell_type": "code",
      "source": [
        "#code\n",
        "grid_rf_class2.fit(X_train, y_train)\n",
        "\n",
        "pred_rf= grid_rf_class2.predict(X_test)\n",
        "\n",
        "accuracy_rf=accuracy_score(y_test,pred_rf)\n",
        "precision_rf=precision_score(y_test,pred_rf,average='micro')\n",
        "recall_rf=recall_score(y_test,pred_rf,average='micro')\n",
        "f1_rf=f1_score(y_test,pred_rf,average='micro')"
      ],
      "metadata": {
        "id": "nktGtM0PB7XB"
      },
      "execution_count": null,
      "outputs": []
    },
    {
      "cell_type": "markdown",
      "source": [
        "*   2.5. Compare the best obtained results among classification algorithms (use PrettyTable to dispaly the results) "
      ],
      "metadata": {
        "id": "NZJ3BSHpB9Dx"
      }
    },
    {
      "cell_type": "code",
      "source": [
        "#code\n",
        "t = PrettyTable(['Algorithm','Accuracy ','Precision','Recall','F1'])\n",
        "t.add_row(['kNN',accuracy_kNN,precision_kNN,recall_kNN,f1_kNN])\n",
        "t.add_row(['LogisticRegression',accuracy_lr,precision_lr,recall_lr,f1_lr])\n",
        "t.add_row(['Romdom Forest',accuracy_rf,precision_rf,recall_rf,f1_rf])\n",
        "print(t)"
      ],
      "metadata": {
        "id": "8LS_IYfNCFEj",
        "colab": {
          "base_uri": "https://localhost:8080/"
        },
        "outputId": "ddb8c31e-ec47-4301-ca2a-651e1533d6ba"
      },
      "execution_count": null,
      "outputs": [
        {
          "output_type": "stream",
          "name": "stdout",
          "text": [
            "+--------------------+--------------------+--------------------+--------------------+--------------------+\n",
            "|     Algorithm      |     Accuracy       |     Precision      |       Recall       |         F1         |\n",
            "+--------------------+--------------------+--------------------+--------------------+--------------------+\n",
            "|        kNN         | 0.9473684210526315 | 0.9473684210526315 | 0.9473684210526315 | 0.9473684210526315 |\n",
            "| LogisticRegression | 0.9473684210526315 | 0.9473684210526315 | 0.9473684210526315 | 0.9473684210526315 |\n",
            "|   Romdom Forest    | 0.9473684210526315 | 0.9473684210526315 | 0.9473684210526315 | 0.9473684210526315 |\n",
            "+--------------------+--------------------+--------------------+--------------------+--------------------+\n"
          ]
        }
      ]
    },
    {
      "cell_type": "markdown",
      "source": [
        "#Task 3. \n",
        "The dataset consists of **2000 user-created movie reviews** archived on the IMDb(Internet Movie Database). The reviews are equally partitioned into a positive set and a negative set (1000+1000). Each review consists of a plain text file (.txt) and a class label representing the overall user opinion. \n",
        "The class attribute has only two values: **pos** (positive) or **neg** (negative).\n"
      ],
      "metadata": {
        "id": "b52OPWPD2afi"
      }
    },
    {
      "cell_type": "markdown",
      "source": [
        "*   3.1 Importing additional libraries"
      ],
      "metadata": {
        "id": "lDcxOQRmDz_h"
      }
    },
    {
      "cell_type": "code",
      "source": [
        "import nltk, random\n",
        "nltk.download('movie_reviews')#download movie reviews dataset\n",
        "from nltk.corpus import movie_reviews\n",
        "import pandas as pd\n",
        "import matplotlib.pyplot as plt\n",
        "import numpy as np\n",
        "from sklearn.model_selection import cross_val_score\n",
        "from collections import Counter\n",
        "from sklearn.model_selection import train_test_split"
      ],
      "metadata": {
        "id": "ZjyW06skDwvL",
        "colab": {
          "base_uri": "https://localhost:8080/"
        },
        "outputId": "4e9c7979-bc76-4366-97a4-5eb438bcc075"
      },
      "execution_count": null,
      "outputs": [
        {
          "output_type": "stream",
          "name": "stderr",
          "text": [
            "[nltk_data] Downloading package movie_reviews to /root/nltk_data...\n",
            "[nltk_data]   Package movie_reviews is already up-to-date!\n"
          ]
        }
      ]
    },
    {
      "cell_type": "markdown",
      "source": [
        "*   3.2. Movie reviews information"
      ],
      "metadata": {
        "id": "RJpsTIiyv-1h"
      }
    },
    {
      "cell_type": "code",
      "source": [
        "#code\n",
        "print(len(movie_reviews.fileids()))\n",
        "print(movie_reviews.categories())\n",
        "print(movie_reviews.words()[:100])\n",
        "print(movie_reviews.fileids()[:10])"
      ],
      "metadata": {
        "id": "5ZE7A0Au1Pg0",
        "colab": {
          "base_uri": "https://localhost:8080/"
        },
        "outputId": "5402272f-a623-42e2-e61e-83527a6e9ab7"
      },
      "execution_count": null,
      "outputs": [
        {
          "output_type": "stream",
          "name": "stdout",
          "text": [
            "2000\n",
            "['neg', 'pos']\n",
            "['plot', ':', 'two', 'teen', 'couples', 'go', 'to', ...]\n",
            "['neg/cv000_29416.txt', 'neg/cv001_19502.txt', 'neg/cv002_17424.txt', 'neg/cv003_12683.txt', 'neg/cv004_12641.txt', 'neg/cv005_29357.txt', 'neg/cv006_17022.txt', 'neg/cv007_4992.txt', 'neg/cv008_29326.txt', 'neg/cv009_29417.txt']\n"
          ]
        }
      ]
    },
    {
      "cell_type": "markdown",
      "source": [
        "*   3.3. Create dataset from movie reviews"
      ],
      "metadata": {
        "id": "6pHmMpqMHS23"
      }
    },
    {
      "cell_type": "code",
      "source": [
        "documents = [(list(movie_reviews.words(fileid)), category)\n",
        "             for category in movie_reviews.categories()\n",
        "             for fileid in movie_reviews.fileids(category)]\n",
        "random.seed(123)\n",
        "random.shuffle(documents)"
      ],
      "metadata": {
        "id": "45aY6woMHSH5"
      },
      "execution_count": null,
      "outputs": []
    },
    {
      "cell_type": "code",
      "source": [
        "print('Number of Reviews/Documents: {}'.format(len(documents)))\n",
        "print('Corpus Size (words): {}'.format(np.sum([len(d) for (d,l) in documents])))\n",
        "print('Sample Text of Doc 1:')\n",
        "print('-'*30)\n",
        "print(' '.join(documents[0][0][:50])) # first 50 words of the first document"
      ],
      "metadata": {
        "id": "NNke0Da5HqFa",
        "colab": {
          "base_uri": "https://localhost:8080/"
        },
        "outputId": "fbd005f1-bfaf-4704-fe83-73140a09cde9"
      },
      "execution_count": null,
      "outputs": [
        {
          "output_type": "stream",
          "name": "stdout",
          "text": [
            "Number of Reviews/Documents: 2000\n",
            "Corpus Size (words): 1583820\n",
            "Sample Text of Doc 1:\n",
            "------------------------------\n",
            "most movies seem to release a third movie just so it can be called a trilogy . rocky iii seems to kind of fit in that category , but manages to be slightly unique . the rocky formula of \" rocky loses fight / rocky trains / rocky wins fight\n"
          ]
        }
      ]
    },
    {
      "cell_type": "code",
      "source": [
        "sentiment_distr = Counter([label for (words, label) in documents])\n",
        "print(sentiment_distr)"
      ],
      "metadata": {
        "id": "vVFUEhnXHsGd",
        "colab": {
          "base_uri": "https://localhost:8080/"
        },
        "outputId": "7eda85d6-fee1-4745-f499-a498b49422c2"
      },
      "execution_count": null,
      "outputs": [
        {
          "output_type": "stream",
          "name": "stdout",
          "text": [
            "Counter({'pos': 1000, 'neg': 1000})\n"
          ]
        }
      ]
    },
    {
      "cell_type": "markdown",
      "source": [
        "*   3.4. Train test split"
      ],
      "metadata": {
        "id": "jTXiEbMzHgVC"
      }
    },
    {
      "cell_type": "code",
      "source": [
        "train, test = train_test_split(documents, test_size = 0.33, random_state=42)"
      ],
      "metadata": {
        "id": "v_-0gZZFHvJN"
      },
      "execution_count": null,
      "outputs": []
    },
    {
      "cell_type": "code",
      "source": [
        "## Sentiment Distrubtion for Train and Test\n",
        "print(Counter([label for (words, label) in train]))\n",
        "print(Counter([label for (words, label) in test]))"
      ],
      "metadata": {
        "id": "UUGlm5TGHvpV",
        "colab": {
          "base_uri": "https://localhost:8080/"
        },
        "outputId": "93a4d092-5699-4bf9-dde8-5da46d0fab61"
      },
      "execution_count": null,
      "outputs": [
        {
          "output_type": "stream",
          "name": "stdout",
          "text": [
            "Counter({'neg': 674, 'pos': 666})\n",
            "Counter({'pos': 334, 'neg': 326})\n"
          ]
        }
      ]
    },
    {
      "cell_type": "code",
      "source": [
        "X_train = [' '.join(words) for (words, label) in train]\n",
        "X_test = [' '.join(words) for (words, label) in test]\n",
        "y_train = [label for (words, label) in train]\n",
        "y_test = [label for (words, label) in test]"
      ],
      "metadata": {
        "id": "l1ppl_0RHx1P"
      },
      "execution_count": null,
      "outputs": []
    },
    {
      "cell_type": "markdown",
      "source": [
        "*   3.5. Text Vectorization"
      ],
      "metadata": {
        "id": "7xUaXrjxH6Ee"
      }
    },
    {
      "cell_type": "code",
      "source": [
        "from sklearn.feature_extraction.text import CountVectorizer, TfidfVectorizer\n",
        "\n",
        "tfidf_vec = TfidfVectorizer(min_df = 10, token_pattern = r'[a-zA-Z]+')\n",
        "X_train_bow = tfidf_vec.fit_transform(X_train) # fit train\n",
        "X_test_bow = tfidf_vec.transform(X_test) # transform test"
      ],
      "metadata": {
        "id": "fzwM0nsIH-8l"
      },
      "execution_count": null,
      "outputs": []
    },
    {
      "cell_type": "markdown",
      "source": [
        "*   3.6. Apply **SVM** with **GridSearchCV** "
      ],
      "metadata": {
        "id": "BP1vB3loIF28"
      }
    },
    {
      "cell_type": "code",
      "source": [
        "from sklearn.pipeline import Pipeline\n",
        "from sklearn.feature_extraction.text import CountVectorizer, TfidfTransformer"
      ],
      "metadata": {
        "id": "editBzBzI7xc"
      },
      "execution_count": null,
      "outputs": []
    },
    {
      "cell_type": "code",
      "source": [
        "#code\n",
        "pipeline = Pipeline([\n",
        "    ('vect', CountVectorizer()),\n",
        "    ('tfidf', TfidfTransformer()),\n",
        "    ('clf', SVC(random_state=0)),\n",
        "])\n",
        "clf=svm.SVC(kernel='sigmoid',random_state=0)\n",
        "param_grid = {\n",
        "    'stop_words': ['english', None],\n",
        "    'max_features': [1000, 5000, None],\n",
        "    'tfidf': [True, False],\n",
        "    'kernel': ['linear', 'rbf'],\n",
        "    'C': [0.1, 1, 10],\n",
        "    'gamma': [0.1, 1, 'scale']\n",
        "}\n",
        "grid_rf_class_movie_SVM = GridSearchCV(\n",
        "    estimator= pipeline,\n",
        "    param_grid = param_grid,\n",
        "    scoring= 'accuracy',\n",
        "    n_jobs= -1,\n",
        "    cv= 5,\n",
        "    refit = True,\n",
        "    return_train_score=True\n",
        ")\n"
      ],
      "metadata": {
        "id": "b3FHQqh1Hlrd"
      },
      "execution_count": null,
      "outputs": []
    },
    {
      "cell_type": "code",
      "source": [
        "grid_rf_class_movie_SVM.fit(X_train, y_train)\n",
        "\n",
        "grid_rf_class_movie_SVM.predict(X_test)"
      ],
      "metadata": {
        "id": "YMHoiQJK-EfW"
      },
      "execution_count": null,
      "outputs": []
    },
    {
      "cell_type": "markdown",
      "source": [
        "*   3.7. Apply **RandomForest** with **GridSearchCV** "
      ],
      "metadata": {
        "id": "N1Fy8jYBIdxi"
      }
    },
    {
      "cell_type": "code",
      "source": [
        "#code\n",
        "pipeline = Pipeline([\n",
        "    ('vect', CountVectorizer()),\n",
        "    ('tfidf', TfidfTransformer()),\n",
        "    ('clf', RandomForestClassifier(random_state=42)),\n",
        "])\n",
        "\n",
        "\n",
        "param_grid = {\n",
        "       'stop_words': ['english', None],\n",
        "    'max_features': [1000, 5000, None],\n",
        "    ngram_range': [(1,1), (1,2)],\n",
        "    'n_neighbors': [3, 5, 7]\n",
        "}\n",
        "\n",
        "grid_rf_class_movie_RF = GridSearchCV(\n",
        "    estimator= pipeline,\n",
        "    param_grid = param_grid,\n",
        "    scoring= 'accuracy',\n",
        "    n_jobs= -1,\n",
        "    cv= 5,\n",
        "    refit = True,\n",
        "    return_train_score=True\n",
        ")\n"
      ],
      "metadata": {
        "id": "Fyfw2R-gIhWl"
      },
      "execution_count": null,
      "outputs": []
    },
    {
      "cell_type": "code",
      "source": [
        "grid_rf_class_movie_RF.fit(X_train, y_train)\n",
        "\n",
        "grid_rf_class_movie_RF.predict(X_test)"
      ],
      "metadata": {
        "id": "RKVtLpZtN8wN"
      },
      "execution_count": null,
      "outputs": []
    },
    {
      "cell_type": "markdown",
      "source": [
        "*   3.8. Apply **kNN** with **GridSearchCV** "
      ],
      "metadata": {
        "id": "_btsVKjIIiLT"
      }
    },
    {
      "cell_type": "code",
      "source": [
        "#code\n",
        "knn = KNeighborsClassifier(n_neighbors=5)\n",
        "param_grid = {\n",
        "    'n_neighbors': [3, 5, 7, 9, 11],\n",
        "    'weights': ['uniform', 'distance'],\n",
        "    'algorithm': ['ball_tree', 'kd_tree', 'brute']\n",
        "}"
      ],
      "metadata": {
        "id": "IZmFu1ZQImhn"
      },
      "execution_count": null,
      "outputs": []
    },
    {
      "cell_type": "markdown",
      "source": [
        "*   3.9. Apply **LogisticRegression** with **GridSearchCV** "
      ],
      "metadata": {
        "id": "0Ix_HeVGIvDu"
      }
    },
    {
      "cell_type": "code",
      "source": [
        "#code\n",
        "param_grid = {\n",
        "    'stop_words': ['english', None],\n",
        "    'max_features': [1000, 5000, None],\n",
        "    'tfid': [True, False],\n",
        "    'C': [0.1, 1, 10, 100],\n",
        "    'penalty': ['l1', 'l2']\n",
        "}"
      ],
      "metadata": {
        "id": "sTd3alCMIr-i"
      },
      "execution_count": null,
      "outputs": []
    },
    {
      "cell_type": "markdown",
      "source": [
        "*   3.10. Compare the best obtained results among classification algorithms (use PrettyTable to dispaly the results) "
      ],
      "metadata": {
        "id": "nhYF2y6eI058"
      }
    },
    {
      "cell_type": "markdown",
      "source": [
        "#Finally,\n",
        "Save a copy in your Github. Remember renaming the notebook."
      ],
      "metadata": {
        "id": "Ok7RGkea_b7n"
      }
    }
  ]
}