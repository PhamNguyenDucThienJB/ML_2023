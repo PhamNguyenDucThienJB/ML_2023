{
  "nbformat": 4,
  "nbformat_minor": 0,
  "metadata": {
    "colab": {
      "provenance": [],
      "include_colab_link": true
    },
    "kernelspec": {
      "name": "python3",
      "display_name": "Python 3"
    },
    "language_info": {
      "name": "python"
    }
  },
  "cells": [
    {
      "cell_type": "markdown",
      "metadata": {
        "id": "view-in-github",
        "colab_type": "text"
      },
      "source": [
        "<a href=\"https://colab.research.google.com/github/PhamNguyenDucThienJB/ML_2023/blob/main/Lab_5_20130410_PhamNguyenDucThien.ipynb\" target=\"_parent\"><img src=\"https://colab.research.google.com/assets/colab-badge.svg\" alt=\"Open In Colab\"/></a>"
      ]
    },
    {
      "cell_type": "markdown",
      "source": [
        "# This lab is to deal with **SVM** to classification tasks and compare its performance with other competitive algorithms. In general, **SVM** is one of the most popular and widely used supervised machine learning algorithms.\n",
        "\n",
        "*   **Deadline: 23:59, 17/03/2023**\n",
        "\n"
      ],
      "metadata": {
        "id": "LMzehe0sy5wr"
      }
    },
    {
      "cell_type": "markdown",
      "source": [
        "# Import libraries"
      ],
      "metadata": {
        "id": "H4nJmxp9zGX4"
      }
    },
    {
      "cell_type": "code",
      "execution_count": 142,
      "metadata": {
        "id": "DoVWQ8AEyc-C"
      },
      "outputs": [],
      "source": [
        "# code\n",
        "from sklearn import datasets\n",
        "from sklearn import svm\n",
        "from prettytable import PrettyTable\n",
        "from sklearn.model_selection import train_test_split\n",
        "from sklearn import metrics\n",
        "from sklearn.metrics import accuracy_score,precision_score,recall_score,f1_score, confusion_matrix,classification_report\n",
        "from sklearn.tree import DecisionTreeClassifier\n",
        "from sklearn.neighbors import KNeighborsClassifier\n",
        "from sklearn.metrics import accuracy_score, precision_score, recall_score, f1_score\n",
        "from sklearn.svm import SVC\n",
        "from sklearn.datasets import load_iris"
      ]
    },
    {
      "cell_type": "markdown",
      "source": [
        "#Task 1. \n",
        "For breast cancer dataset (https://tinyurl.com/3vme8hr3) which could be loaded from datasets in sklearn as follows:\n",
        "\n",
        "```\n",
        "#Import scikit-learn dataset library\n",
        "from sklearn import datasets\n",
        "\n",
        "#Load dataset\n",
        "cancer = datasets.load_breast_cancer()\n",
        "```\n",
        "\n",
        "*   1.1.\tApply SVM algorithm to above dataset using linear kernel.\n",
        "*   1.2.\tCompare the obtained results with other competitive algorithms (Logistic Regression, Decision Tree, kNN) based on metrics: accuracy, precision, recall, f1 measures.\n",
        "\n"
      ],
      "metadata": {
        "id": "kNv07ARGzOUm"
      }
    },
    {
      "cell_type": "code",
      "source": [
        "# These 3 are the colums od the tables\n",
        "t=PrettyTable(['Subject Code','Subject ','Mards',])\n",
        "# To insert Rows\n",
        "t.add_row(['K01','Math',95])\n",
        "t.add_row(['K04','Physical',85])\n",
        "t.add_row(['K03','Chemistry',90])\n",
        "t.add_row(['K08','English',75])\n",
        "t.add_row(['K29','Computer Science',25])\n",
        "t.add_row(['K06','Social Sicince',45])\n",
        "print(t)\n",
        "\n"
      ],
      "metadata": {
        "colab": {
          "base_uri": "https://localhost:8080/"
        },
        "id": "Bw7MvSCj1Bq7",
        "outputId": "0ca51925-d145-4b58-b75f-718a97ca7acb"
      },
      "execution_count": 143,
      "outputs": [
        {
          "output_type": "stream",
          "name": "stdout",
          "text": [
            "+--------------+------------------+-------+\n",
            "| Subject Code |     Subject      | Mards |\n",
            "+--------------+------------------+-------+\n",
            "|     K01      |       Math       |   95  |\n",
            "|     K04      |     Physical     |   85  |\n",
            "|     K03      |    Chemistry     |   90  |\n",
            "|     K08      |     English      |   75  |\n",
            "|     K29      | Computer Science |   25  |\n",
            "|     K06      |  Social Sicince  |   45  |\n",
            "+--------------+------------------+-------+\n"
          ]
        }
      ]
    },
    {
      "cell_type": "code",
      "source": [
        "# code\n",
        "cancer = datasets.load_breast_cancer()\n",
        "x= cancer['data']\n",
        "y= cancer['target']\n",
        "\n",
        "X_train, X_test, y_train, y_test = train_test_split(x, y, test_size=0.3,random_state=42)"
      ],
      "metadata": {
        "id": "sOsg77IBzEyo"
      },
      "execution_count": 144,
      "outputs": []
    },
    {
      "cell_type": "code",
      "source": [
        "#Create a svm Classifier\n",
        "clf = svm.SVC(kernel='linear') # Linear Kernel\n",
        "#Train the model using the training sets\n",
        "clf.fit(X_train, y_train)\n",
        "#Predict the response for test dataset\n",
        "y_pred = clf.predict(X_test)"
      ],
      "metadata": {
        "id": "-14Oregy0Pns"
      },
      "execution_count": 145,
      "outputs": []
    },
    {
      "cell_type": "code",
      "source": [
        "accurancy_svm=accuracy_score(y_test,y_pred)\n",
        "precision_svm=precision_score(y_test,y_pred)\n",
        "recall_svm=recall_score(y_test,y_pred)\n",
        "f1_svm=f1_score(y_test,y_pred)\n",
        "cm=confusion_matrix(y_test,y_pred)\n",
        "print(cm)"
      ],
      "metadata": {
        "colab": {
          "base_uri": "https://localhost:8080/"
        },
        "id": "d2cMyZu90SGz",
        "outputId": "56c6f27d-9a32-4638-d489-bbc6745c5676"
      },
      "execution_count": 146,
      "outputs": [
        {
          "output_type": "stream",
          "name": "stdout",
          "text": [
            "[[ 59   4]\n",
            " [  2 106]]\n"
          ]
        }
      ]
    },
    {
      "cell_type": "code",
      "source": [
        "# Dececion tree algorithm\n",
        "dtc=DecisionTreeClassifier(random_state=32)\n",
        "dtc.fit(X_train,y_train)\n",
        "pred_label_dtc=dtc.predict(X_test)\n",
        "\n",
        "accurancy_dtc=accuracy_score(y_test,pred_label_dtc)\n",
        "precision_dtc=precision_score(y_test,pred_label_dtc)\n",
        "recall_dtc=recall_score(y_test,pred_label_dtc)\n",
        "f1_dtc=f1_score(y_test,pred_label_dtc)\n",
        "print(f1_dtc)\n",
        "# print(\"Accuracy:\",metrics.accuracy_score(y_test, y_pred))\n",
        "print(\"Accuracy:\",accurancy_svm)\n",
        "print(accurancy_dtc)"
      ],
      "metadata": {
        "colab": {
          "base_uri": "https://localhost:8080/"
        },
        "id": "KpxUAISd0W2S",
        "outputId": "5744a1e6-c990-4d0f-fa86-fa9cec864ffa"
      },
      "execution_count": 147,
      "outputs": [
        {
          "output_type": "stream",
          "name": "stdout",
          "text": [
            "0.9339622641509433\n",
            "Accuracy: 0.9649122807017544\n",
            "0.9181286549707602\n"
          ]
        }
      ]
    },
    {
      "cell_type": "code",
      "source": [
        "# Neighbor algorithm\n",
        "km= KNeighborsClassifier(n_neighbors=5)\n",
        "km.fit(X_train,y_train)\n",
        "pred_label_km=dtc.predict(X_test)\n",
        "\n",
        "accurancy_km=accuracy_score(y_test,pred_label_km)\n",
        "precision_km=precision_score(y_test,pred_label_km)\n",
        "recall_km=recall_score(y_test,pred_label_km)\n",
        "f1_km=f1_score(y_test,pred_label_km)\n",
        "print(accurancy_km)"
      ],
      "metadata": {
        "colab": {
          "base_uri": "https://localhost:8080/"
        },
        "id": "2xpkM7Cm3KuL",
        "outputId": "155462b4-2491-4c10-b990-d5200f6413c6"
      },
      "execution_count": 116,
      "outputs": [
        {
          "output_type": "stream",
          "name": "stdout",
          "text": [
            "0.9181286549707602\n"
          ]
        }
      ]
    },
    {
      "cell_type": "code",
      "source": [
        "# These  the colums od the tables\n",
        "t=PrettyTable(['Algorithm','accurancy ','precision','recall','f1'])\n",
        "# To insert Rows\n",
        "t.add_row(['Dececion tree',accurancy_dtc,precision_dtc,recall_dtc,f1_dtc])\n",
        "t.add_row(['Neighbor',accurancy_km,precision_km,recall_km,f1_km])\n",
        "t.add_row(['SVM',accurancy_svm,precision_svm,recall_svm,f1_svm])\n",
        "\n",
        "\n",
        "\n",
        "print(t)"
      ],
      "metadata": {
        "colab": {
          "base_uri": "https://localhost:8080/"
        },
        "id": "Dni1PR6j42p6",
        "outputId": "526d7e5f-766b-4948-a208-1490399a8a09"
      },
      "execution_count": 117,
      "outputs": [
        {
          "output_type": "stream",
          "name": "stdout",
          "text": [
            "+---------------+--------------------+--------------------+--------------------+--------------------+\n",
            "|   Algorithm   |     accurancy      |     precision      |       recall       |         f1         |\n",
            "+---------------+--------------------+--------------------+--------------------+--------------------+\n",
            "| Dececion tree | 0.9181286549707602 | 0.9519230769230769 | 0.9166666666666666 | 0.9339622641509433 |\n",
            "|    Neighbor   | 0.9181286549707602 | 0.9519230769230769 | 0.9166666666666666 | 0.9339622641509433 |\n",
            "|      SVM      | 0.9649122807017544 | 0.9636363636363636 | 0.9814814814814815 | 0.9724770642201834 |\n",
            "+---------------+--------------------+--------------------+--------------------+--------------------+\n"
          ]
        }
      ]
    },
    {
      "cell_type": "markdown",
      "source": [
        "#Task 2. \n",
        "\n",
        "*   1.1.\tPerform SVM algorithm to **Iris dataset** using **linear kernel**.\n",
        "*   1.2.\tCompare the obtained results in 1.1 with SVM using other kernels (**Polynomial Kernel, Gaussian Kernel, Sigmoid Kernel, Radial Basis Function Kernel**). Some metrics could be used: accuracy, precision, recall, f1 measures\n",
        "\n",
        "\n",
        "\n"
      ],
      "metadata": {
        "id": "S43IoUT-0OQq"
      }
    },
    {
      "cell_type": "code",
      "source": [
        "# code\n",
        "iris=datasets.load_iris()\n",
        "# data\n",
        "x= iris['data']\n",
        "y= iris['target']\n",
        "X_train, X_test, y_train, y_test = train_test_split(x, y, test_size=0.2,random_state=43)\n",
        "# iris\n",
        "  "
      ],
      "metadata": {
        "id": "_xhPpF5b033h"
      },
      "execution_count": 97,
      "outputs": []
    },
    {
      "cell_type": "code",
      "source": [
        "#Create a svm Classifier\n",
        "clf = svm.SVC(kernel='linear') # Linear Kernel\n",
        "#Train the model using the training sets\n",
        "clf.fit(X_train, y_train)\n",
        "#Predict the response for test dataset\n",
        "y_pred = clf.predict(X_test)"
      ],
      "metadata": {
        "id": "1Lh9eP_1vWsF"
      },
      "execution_count": 98,
      "outputs": []
    },
    {
      "cell_type": "code",
      "source": [
        "accuracy = accuracy_score(y_test, y_pred)\n",
        "print(\"Accuracy:\", accuracy)\n",
        "print(confusion_matrix(y_test, y_pred))\n",
        "print(classification_report(y_test, y_pred))"
      ],
      "metadata": {
        "colab": {
          "base_uri": "https://localhost:8080/"
        },
        "id": "xyRCgMhqv2hi",
        "outputId": "03d32233-2d54-4ebd-f6b8-794f11c06a45"
      },
      "execution_count": 99,
      "outputs": [
        {
          "output_type": "stream",
          "name": "stdout",
          "text": [
            "Accuracy: 1.0\n",
            "[[13  0  0]\n",
            " [ 0  8  0]\n",
            " [ 0  0  9]]\n",
            "              precision    recall  f1-score   support\n",
            "\n",
            "           0       1.00      1.00      1.00        13\n",
            "           1       1.00      1.00      1.00         8\n",
            "           2       1.00      1.00      1.00         9\n",
            "\n",
            "    accuracy                           1.00        30\n",
            "   macro avg       1.00      1.00      1.00        30\n",
            "weighted avg       1.00      1.00      1.00        30\n",
            "\n"
          ]
        }
      ]
    },
    {
      "cell_type": "code",
      "source": [
        "# Polynomial Kernel\n",
        "svm_poly = svm.SVC(kernel='poly', degree=3)\n",
        "svm_poly.fit(X_train, y_train)\n",
        "y_pred_poly = svm_poly.predict(X_test)"
      ],
      "metadata": {
        "id": "UvJHBVr00xkI"
      },
      "execution_count": 100,
      "outputs": []
    },
    {
      "cell_type": "code",
      "source": [
        "accuracy_poly=accuracy_score(y_test, y_pred_poly)\n",
        "precision_poly=precision_score(y_test,y_pred, average='weighted')\n",
        "recall_poly=recall_score(y_test, y_pred_poly, average='weighted')\n",
        "f1_poly=f1_score(y_test, y_pred_poly, average='weighted')"
      ],
      "metadata": {
        "id": "PcRauF0LxSFu"
      },
      "execution_count": 101,
      "outputs": []
    },
    {
      "cell_type": "code",
      "source": [
        "# Gaussian Kernel\n",
        "svm_gauss= svm.SVC(kernel='rbf')\n",
        "svm_gauss.fit(X_train, y_train)\n",
        "y_pred_gauss = svm_gauss.predict(X_test)"
      ],
      "metadata": {
        "id": "tbC3r6cK-dPB"
      },
      "execution_count": 102,
      "outputs": []
    },
    {
      "cell_type": "code",
      "source": [
        "accuracy_gauss=accuracy_score(y_test, y_pred_poly)\n",
        "precision_gauss=precision_score(y_test, y_pred_poly, average='weighted')\n",
        "recall_gauss=recall_score(y_test, y_pred_poly, average='weighted')\n",
        "f1_gauss=f1_score(y_test, y_pred_poly, average='weighted')"
      ],
      "metadata": {
        "id": "Qaom9NUl1iIR"
      },
      "execution_count": 103,
      "outputs": []
    },
    {
      "cell_type": "code",
      "source": [
        "# Sigmoid Kernel\n",
        "svm_sig= svm.SVC(kernel='sigmoid')\n",
        "svm_sig.fit(X_train, y_train)\n",
        "y_pred_sig = svm_sig.predict(X_test)"
      ],
      "metadata": {
        "id": "L0HUIkop5Uqu"
      },
      "execution_count": 104,
      "outputs": []
    },
    {
      "cell_type": "code",
      "source": [
        "accuracy_sig=accuracy_score(y_test, y_pred_poly)\n",
        "precision_sig=precision_score(y_test, y_pred_poly, average='weighted')\n",
        "recall_sig=recall_score(y_test, y_pred_poly, average='weighted')\n",
        "f1_sig=f1_score(y_test, y_pred_poly, average='weighted')"
      ],
      "metadata": {
        "id": "pJKUkV895i_-"
      },
      "execution_count": 105,
      "outputs": []
    },
    {
      "cell_type": "code",
      "source": [
        "# Radial Basis "
      ],
      "metadata": {
        "id": "tC8ZYR_15pGo"
      },
      "execution_count": 106,
      "outputs": []
    },
    {
      "cell_type": "code",
      "source": [
        "svm_rft= svm.SVC(kernel='rbf')\n",
        "svm_rft.fit(X_train, y_train)\n",
        "y_pred_rft = svm_rft.predict(X_test)"
      ],
      "metadata": {
        "id": "1KuUgln_5sgk"
      },
      "execution_count": 107,
      "outputs": []
    },
    {
      "cell_type": "code",
      "source": [
        "accuracy_rft=accuracy_score(y_test, y_pred_poly)\n",
        "precision_rft=precision_score(y_test, y_pred_poly, average='weighted')\n",
        "recall_rft=recall_score(y_test, y_pred_poly, average='weighted')\n",
        "f1_rft=f1_score(y_test, y_pred_poly, average='weighted')"
      ],
      "metadata": {
        "id": "lPCrTL7W5vDK"
      },
      "execution_count": 108,
      "outputs": []
    },
    {
      "cell_type": "code",
      "source": [
        "# These  the colums od the tables # Gaussian Kernel\n",
        "h=PrettyTable(['Algorithm','accurancy ','precision','recall','f1'])\n",
        "# To insert Rows\n",
        "h.add_row(['Polynomial Kernel',accuracy_poly,precision_poly,recall_poly,f1_poly])\n",
        "h.add_row(['Gaussian Kernel',accuracy_gauss,precision_gauss,recall_gauss,f1_gauss])\n",
        "h.add_row(['Sigmoid Kernel',accuracy_sig,precision_sig,recall_sig,f1_sig])\n",
        "h.add_row(['Radial Basis ',accuracy_rft,precision_rft,recall_rft,f1_rft])\n",
        "print(h)\n"
      ],
      "metadata": {
        "colab": {
          "base_uri": "https://localhost:8080/"
        },
        "id": "1niVr-Hu59hd",
        "outputId": "898e4da1-1454-41f6-b60b-30a23bbe55d9"
      },
      "execution_count": 109,
      "outputs": [
        {
          "output_type": "stream",
          "name": "stdout",
          "text": [
            "+-------------------+------------+-----------+--------+-----+\n",
            "|     Algorithm     | accurancy  | precision | recall |  f1 |\n",
            "+-------------------+------------+-----------+--------+-----+\n",
            "| Polynomial Kernel |    1.0     |    1.0    |  1.0   | 1.0 |\n",
            "|  Gaussian Kernel  |    1.0     |    1.0    |  1.0   | 1.0 |\n",
            "|   Sigmoid Kernel  |    1.0     |    1.0    |  1.0   | 1.0 |\n",
            "|   Radial Basis    |    1.0     |    1.0    |  1.0   | 1.0 |\n",
            "+-------------------+------------+-----------+--------+-----+\n"
          ]
        }
      ]
    },
    {
      "cell_type": "markdown",
      "source": [
        "#Task 3. \n",
        "Compare the performance of selected classification algorithms (Decision Tree, kNN, Logistic Regression) and SVM (using different kernels) with mnist dataset based on accuracy, precision, recall, f1 measures.\n"
      ],
      "metadata": {
        "id": "b52OPWPD2afi"
      }
    },
    {
      "cell_type": "code",
      "source": [
        "# code\n",
        "mnist = datasets.load_digits()\n",
        "x= mnist['data']\n",
        "y= mnist['target']\n",
        "\n",
        "X_train, X_test, y_train, y_test = train_test_split(x, y, test_size=0.3,random_state=42)"
      ],
      "metadata": {
        "id": "BkN0YoOo84Lk"
      },
      "execution_count": 119,
      "outputs": []
    },
    {
      "cell_type": "code",
      "source": [
        "#Create a svm Classifier\n",
        "clf = svm.SVC(kernel='linear') # Linear Kernel\n",
        "#Train the model using the training sets\n",
        "clf.fit(X_train, y_train)\n",
        "#Predict the response for test dataset\n",
        "y_pred = clf.predict(X_test)"
      ],
      "metadata": {
        "id": "T6jaYsxn9XGv"
      },
      "execution_count": 120,
      "outputs": []
    },
    {
      "cell_type": "code",
      "source": [
        "accurancy_svm=accuracy_score(y_test,y_pred)\n",
        "precision_svm=precision_score(y_test,y_pred,average='weighted')\n",
        "recall_svm=recall_score(y_test,y_pred,average='weighted')\n",
        "f1_svm=f1_score(y_test,y_pred,average='weighted')\n",
        "cm=confusion_matrix(y_test,y_pred)\n",
        "print(cm)"
      ],
      "metadata": {
        "colab": {
          "base_uri": "https://localhost:8080/"
        },
        "id": "YNWauMXu9ZVU",
        "outputId": "094262f0-420c-4ccf-fb65-0cbece120a0f"
      },
      "execution_count": 124,
      "outputs": [
        {
          "output_type": "stream",
          "name": "stdout",
          "text": [
            "[[53  0  0  0  0  0  0  0  0  0]\n",
            " [ 0 49  0  0  0  0  0  0  1  0]\n",
            " [ 0  0 47  0  0  0  0  0  0  0]\n",
            " [ 0  0  1 52  0  1  0  0  0  0]\n",
            " [ 0  1  0  0 59  0  0  0  0  0]\n",
            " [ 0  0  0  0  0 64  0  1  0  1]\n",
            " [ 0  0  0  0  0  0 53  0  0  0]\n",
            " [ 0  0  0  0  0  0  0 54  0  1]\n",
            " [ 0  0  0  0  0  1  0  0 42  0]\n",
            " [ 0  0  0  0  1  0  0  1  1 56]]\n"
          ]
        }
      ]
    },
    {
      "cell_type": "code",
      "source": [
        "# Dececion tree algorithm\n",
        "dtc=DecisionTreeClassifier(random_state=32)\n",
        "dtc.fit(X_train,y_train)\n",
        "pred_label_dtc=dtc.predict(X_test)\n",
        "\n",
        "accurancy_dtc=accuracy_score(y_test,pred_label_dtc)\n",
        "precision_dtc=precision_score(y_test,pred_label_dtc,average='weighted')\n",
        "recall_dtc=recall_score(y_test,pred_label_dtc,average='weighted')\n",
        "f1_dtc=f1_score(y_test,pred_label_dtc,average='weighted')\n",
        "print(f1_dtc)\n",
        "# print(\"Accuracy:\",metrics.accuracy_score(y_test, y_pred))\n",
        "print(\"Accuracy:\",accurancy_svm)\n",
        "print(accurancy_dtc)"
      ],
      "metadata": {
        "colab": {
          "base_uri": "https://localhost:8080/"
        },
        "id": "ViKhV0U_9d1Z",
        "outputId": "d5ac9a1a-4fe0-4e9a-cc65-e2735432f2b9"
      },
      "execution_count": 127,
      "outputs": [
        {
          "output_type": "stream",
          "name": "stdout",
          "text": [
            "0.8412233197598958\n",
            "Accuracy: 0.9796296296296296\n",
            "0.8407407407407408\n"
          ]
        }
      ]
    },
    {
      "cell_type": "code",
      "source": [
        "# Neighbor algorithm\n",
        "km= KNeighborsClassifier(n_neighbors=5)\n",
        "km.fit(X_train,y_train)\n",
        "pred_label_km=dtc.predict(X_test)\n",
        "\n",
        "accurancy_km=accuracy_score(y_test,pred_label_km)\n",
        "precision_km=precision_score(y_test,pred_label_km,average='weighted')\n",
        "recall_km=recall_score(y_test,pred_label_km,average='weighted')\n",
        "f1_km=f1_score(y_test,pred_label_km,average='weighted')\n",
        "print(accurancy_km)"
      ],
      "metadata": {
        "colab": {
          "base_uri": "https://localhost:8080/"
        },
        "id": "3EDDn-2l9ftH",
        "outputId": "4a966d3d-3648-4f5e-c1e1-17960e2389e7"
      },
      "execution_count": 129,
      "outputs": [
        {
          "output_type": "stream",
          "name": "stdout",
          "text": [
            "0.8407407407407408\n"
          ]
        }
      ]
    },
    {
      "cell_type": "code",
      "source": [
        "# These  the colums od the tables\n",
        "t=PrettyTable(['Algorithm','accurancy ','precision','recall','f1'])\n",
        "# To insert Rows\n",
        "t.add_row(['Dececion tree',accurancy_dtc,precision_dtc,recall_dtc,f1_dtc])\n",
        "t.add_row(['Neighbor',accurancy_km,precision_km,recall_km,f1_km])\n",
        "t.add_row(['SVM',accurancy_svm,precision_svm,recall_svm,f1_svm])\n",
        "\n",
        "\n",
        "\n",
        "print(t)"
      ],
      "metadata": {
        "colab": {
          "base_uri": "https://localhost:8080/"
        },
        "id": "wbVN2rqa8XZ1",
        "outputId": "976f6c14-268b-4457-883c-968801800c8f"
      },
      "execution_count": 130,
      "outputs": [
        {
          "output_type": "stream",
          "name": "stdout",
          "text": [
            "+---------------+--------------------+--------------------+--------------------+--------------------+\n",
            "|   Algorithm   |     accurancy      |     precision      |       recall       |         f1         |\n",
            "+---------------+--------------------+--------------------+--------------------+--------------------+\n",
            "| Dececion tree | 0.8407407407407408 | 0.8434375532294107 | 0.8407407407407408 | 0.8412233197598958 |\n",
            "|    Neighbor   | 0.8407407407407408 | 0.8434375532294107 | 0.8407407407407408 | 0.8412233197598958 |\n",
            "|      SVM      | 0.9796296296296296 | 0.9797546655664472 | 0.9796296296296296 | 0.9796218196385608 |\n",
            "+---------------+--------------------+--------------------+--------------------+--------------------+\n"
          ]
        }
      ]
    },
    {
      "cell_type": "markdown",
      "source": [
        "#Task 4. \n",
        "Compare the performance of selected classification algorithms (Decision Tree, kNN, Logistic Regression) and SVM (using different kernels) with **credit card dataset** based on accuracy, precision, recall, f1 measures.\n",
        "\n",
        "*   Give some comments on the obtained results\n",
        "*   Identify issues with dataset, and propose the solutions to these issues\n",
        "\n"
      ],
      "metadata": {
        "id": "Z5pp7_h-aP2u"
      }
    },
    {
      "cell_type": "code",
      "source": [
        "import pandas as pd"
      ],
      "metadata": {
        "id": "KXtzYTLh-498"
      },
      "execution_count": 131,
      "outputs": []
    },
    {
      "cell_type": "code",
      "source": [
        "from google.colab import drive\n",
        "drive.mount('/content/Mydrive')\n",
        "%cd '/content/Mydrive/MyDrive/ML_2023'"
      ],
      "metadata": {
        "colab": {
          "base_uri": "https://localhost:8080/"
        },
        "id": "T_pu_GP1_JhI",
        "outputId": "1c4ae1b1-d7b8-47e2-9118-5b680402ea52"
      },
      "execution_count": 133,
      "outputs": [
        {
          "output_type": "stream",
          "name": "stdout",
          "text": [
            "Mounted at /content/Mydrive\n",
            "/content/Mydrive/MyDrive/ML_2023\n"
          ]
        }
      ]
    },
    {
      "cell_type": "code",
      "source": [
        "data = pd.read_csv('creditcard.csv')"
      ],
      "metadata": {
        "id": "NbarqTFh_XPB"
      },
      "execution_count": 137,
      "outputs": []
    },
    {
      "cell_type": "code",
      "source": [
        "# Decision Tree\n",
        "dtc=DecisionTreeClassifier(random_state=32)\n",
        "dtc.fit(X_train,y_train)\n",
        "pred_label_dtc=dtc.predict(X_test)\n",
        "accurancy_dtc=accuracy_score(y_test,pred_label_dtc)\n",
        "precision_dtcs=precision_score(y_test,pred_label_dtc)\n",
        "recall_dtcs=recall_score(y_test,pred_label_dtc)\n",
        "f1_dtcs=f1_score(y_test,pred_label_dtc)"
      ],
      "metadata": {
        "id": "3vT3nJCeAOEV"
      },
      "execution_count": 148,
      "outputs": []
    },
    {
      "cell_type": "code",
      "source": [
        "# Neighbor algorithm\n",
        "km= KNeighborsClassifier(n_neighbors=5)\n",
        "km.fit(X_train,y_train)\n",
        "pred_label_km=dtc.predict(X_test)\n",
        "\n",
        "accurancy_km=accuracy_score(y_test,pred_label_km)\n",
        "precision_km=precision_score(y_test,pred_label_km)\n",
        "recall_km=recall_score(y_test,pred_label_km)\n",
        "f1_km=f1_score(y_test,pred_label_km)\n",
        "print(accurancy_km)"
      ],
      "metadata": {
        "colab": {
          "base_uri": "https://localhost:8080/"
        },
        "id": "qE9oI8-JAvTz",
        "outputId": "6f933670-c7b2-48b7-86b0-e6fa38182436"
      },
      "execution_count": 149,
      "outputs": [
        {
          "output_type": "stream",
          "name": "stdout",
          "text": [
            "0.9181286549707602\n"
          ]
        }
      ]
    },
    {
      "cell_type": "code",
      "source": [
        "# code"
      ],
      "metadata": {
        "id": "Rw_-8FIf2KxW"
      },
      "execution_count": null,
      "outputs": []
    },
    {
      "cell_type": "markdown",
      "source": [
        "#Finally,\n",
        "Save a copy in your Github. Remember renaming the notebook."
      ],
      "metadata": {
        "id": "Ok7RGkea_b7n"
      }
    }
  ]
}